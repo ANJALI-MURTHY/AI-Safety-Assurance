{
 "cells": [
  {
   "cell_type": "markdown",
   "id": "a5f449f4",
   "metadata": {},
   "source": [
    "# PA1: Symbolic Execution on Deep Neural Networks"
   ]
  },
  {
   "cell_type": "code",
   "execution_count": 1,
   "id": "5474c56f",
   "metadata": {},
   "outputs": [],
   "source": [
    "import z3"
   ]
  },
  {
   "cell_type": "code",
   "execution_count": 2,
   "id": "5938597f",
   "metadata": {},
   "outputs": [],
   "source": [
    "# Define the ReLU function \n",
    "def relu(v):\n",
    "    return z3.If(v <= 0.0, 0.0, v)"
   ]
  },
  {
   "cell_type": "markdown",
   "id": "20f12f48",
   "metadata": {},
   "source": [
    "# A 2X2X2X2 DNN"
   ]
  },
  {
   "cell_type": "code",
   "execution_count": 3,
   "id": "f0a96293",
   "metadata": {},
   "outputs": [],
   "source": [
    "#Give symbolic inputs for a 2X2X2X2 Dnn\n",
    "i0 = z3.Real('i0')\n",
    "i1= z3.Real('i1')\n",
    "n0_0 = z3.Real('n0_0')\n",
    "n0_1 = z3.Real('n0_1')\n",
    "n1_0 = z3.Real('n1_0')\n",
    "n1_1 = z3.Real('n1_1')\n",
    "o0= z3.Real('o0')\n",
    "o1 = z3.Real('o1')"
   ]
  },
  {
   "cell_type": "code",
   "execution_count": 4,
   "id": "0cc79a81",
   "metadata": {},
   "outputs": [
    {
     "name": "stdout",
     "output_type": "stream",
     "text": [
      "[[(n0_0, [1.0, -1.0], 0, True), (n0_1, [1.0, 1.0], 0.0, True)], [(n1_0, [0.5, -0.2], 0.0, True), (n1_1, [-0.5, 0.1], 0.0, True)], [(o0, [1.0, -1.0], 0.0, False), (o1, [-1.0, 1.0], 0.0, False)]]\n"
     ]
    }
   ],
   "source": [
    "#Create dnn with 2 hidden layers \n",
    "hidden_layer0 = [(n0_0,[1.0, -1.0], 0, True),(n0_1,[1.0, 1.0], 0.0, True)]\n",
    "hidden_layer1 = [(n1_0,[0.5, -0.2], 0.0, True) , (n1_1,[-0.5, 0.1], 0.0, True)]\n",
    "output_layer =[(o0,[1.0, -1.0], 0.0, False),(o1,[-1.0, 1.0], 0.0, False)]\n",
    "dnn = [hidden_layer0,hidden_layer1,output_layer]\n",
    "print(dnn)\n",
    "input_var = [i0,i1] "
   ]
  },
  {
   "cell_type": "code",
   "execution_count": 5,
   "id": "b8380fe6",
   "metadata": {},
   "outputs": [
    {
     "data": {
      "text/plain": [
       "[[i0, i1], [n0_0, n0_1], [n1_0, n1_1], [o0, o1]]"
      ]
     },
     "execution_count": 5,
     "metadata": {},
     "output_type": "execute_result"
    }
   ],
   "source": [
    "#Function helps in creating an array of neuron input values\n",
    "def create_neurons(dnn,input_var):\n",
    "    neurons=[]\n",
    "    neurons.append(input_var)\n",
    "    for i,layer in enumerate(dnn):\n",
    "        temp_neurons=[]\n",
    "        for j,(neuron, weight, b, r) in enumerate(layer):\n",
    "            temp_neurons.append(dnn[i][j][0])\n",
    "        neurons.append(temp_neurons)\n",
    "    return(neurons)\n",
    "        \n",
    "        \n",
    "create_neurons(dnn,input_var)\n",
    "            \n",
    "    "
   ]
  },
  {
   "cell_type": "markdown",
   "id": "9d903af7",
   "metadata": {},
   "source": [
    "# my_symbolic_execution Function"
   ]
  },
  {
   "cell_type": "code",
   "execution_count": 6,
   "id": "31a4db37",
   "metadata": {},
   "outputs": [],
   "source": [
    "#Function calls the create_neuron function and uses it's return to calculate the weights of every possible neuron\n",
    "def my_symbolic_execution(input_var, dnn):\n",
    "#     weighted_sum = []\n",
    "    neurons = create_neurons(dnn,input_var)\n",
    "    res = []\n",
    "    for i, layer in enumerate(dnn):\n",
    "#         new_weights = []  \n",
    "        for j, (neuron, weight, b, r) in enumerate(layer):\n",
    "            w_sum = sum(var * w for var, w in zip(neurons[i], weight))            \n",
    "            if b!= 0: #bias\n",
    "                w_sum += b\n",
    "                print(w_sum)\n",
    "            if r:    #relu activation\n",
    "                w_sum = relu(w_sum)\n",
    "            res.append(neuron == w_sum)\n",
    "    return(z3.And(res))\n",
    "\n"
   ]
  },
  {
   "cell_type": "markdown",
   "id": "165c3b0f",
   "metadata": {},
   "source": [
    "# Symbolic States and Constraint Solving"
   ]
  },
  {
   "cell_type": "code",
   "execution_count": 7,
   "id": "0b2e44f2",
   "metadata": {},
   "outputs": [
    {
     "name": "stdout",
     "output_type": "stream",
     "text": [
      "And(n0_0 == If(0 + i0*1 + i1*-1 <= 0, 0, 0 + i0*1 + i1*-1),\n",
      "    n0_1 == If(0 + i0*1 + i1*1 <= 0, 0, 0 + i0*1 + i1*1),\n",
      "    n1_0 ==\n",
      "    If(0 + n0_0*1/2 + n0_1*-1/5 <= 0,\n",
      "       0,\n",
      "       0 + n0_0*1/2 + n0_1*-1/5),\n",
      "    n1_1 ==\n",
      "    If(0 + n0_0*-1/2 + n0_1*1/10 <= 0,\n",
      "       0,\n",
      "       0 + n0_0*-1/2 + n0_1*1/10),\n",
      "    o0 == 0 + n1_0*1 + n1_1*-1,\n",
      "    o1 == 0 + n1_0*-1 + n1_1*1)\n",
      "[i1 = 4,\n",
      " n0_0 = 2,\n",
      " n1_1 = 0,\n",
      " i0 = 6,\n",
      " n0_1 = 10,\n",
      " o1 = 0,\n",
      " n1_0 = 0,\n",
      " o0 = 0]\n"
     ]
    }
   ],
   "source": [
    "#Main\n",
    "if __name__ == \"__main__\":\n",
    "    states = my_symbolic_execution(input_var,dnn)\n",
    "    print(states)\n",
    "    assert z3.is_expr(states)\n",
    "    z3.solve(states) #Generating random outputs"
   ]
  },
  {
   "cell_type": "code",
   "execution_count": 8,
   "id": "387dae92",
   "metadata": {},
   "outputs": [
    {
     "name": "stdout",
     "output_type": "stream",
     "text": [
      "[n1_1 = 0,\n",
      " i0 = 1,\n",
      " n0_1 = 0,\n",
      " o1 = -1,\n",
      " o0 = 1,\n",
      " n0_0 = 2,\n",
      " i1 = -1,\n",
      " n1_0 = 1]\n"
     ]
    }
   ],
   "source": [
    "# Stimutating concrete example\n",
    "g = z3.And([i0 == 1.0, i1 == -1.0])\n",
    "z3.solve(z3.And(states, g))  # you should get o0, o1 = 1, -1"
   ]
  },
  {
   "cell_type": "markdown",
   "id": "5b95e26a",
   "metadata": {},
   "source": [
    "# Checking Assertions"
   ]
  },
  {
   "cell_type": "code",
   "execution_count": 9,
   "id": "958c7359",
   "metadata": {},
   "outputs": [
    {
     "name": "stdout",
     "output_type": "stream",
     "text": [
      "Prove that if (n0_0 > 0.0 and n0_1 <= 0.0) then o0 > o1\n",
      "Implies(And(n0_0 > 0, n0_1 <= 0), o0 > o1)\n",
      "proved\n"
     ]
    }
   ],
   "source": [
    "print(\"Prove that if (n0_0 > 0.0 and n0_1 <= 0.0) then o0 > o1\")\n",
    "g = z3.Implies(z3.And([n0_0 > 0.0, n0_1 <= 0.0]), o0 > o1)\n",
    "print(g)  #  Implies (And(n0_0 > 0, n0_1 <= 0), o0 > o1)\n",
    "z3.prove(z3.Implies(states, g))  # proved"
   ]
  },
  {
   "cell_type": "code",
   "execution_count": 10,
   "id": "b26eaa23",
   "metadata": {},
   "outputs": [
    {
     "name": "stdout",
     "output_type": "stream",
     "text": [
      "Prove that when (i0 - i1 > 0 and i0 + i1 <= 0), then o0 > o1\n",
      "Implies(And(i0 - i1 > 0, i0 + i1 <= 0), o0 > o1)\n",
      "proved\n"
     ]
    }
   ],
   "source": [
    "print(\"Prove that when (i0 - i1 > 0 and i0 + i1 <= 0), then o0 > o1\")\n",
    "g = z3.Implies(z3.And([i0 - i1 > 0.0, i0 + i1 <= 0.0]), o0 > o1)\n",
    "print(g)  # Implies(And(i0 - i1 > 0, i0 + i1 <= 0), o0 > o1)\n",
    "z3.prove(z3.Implies(states, g))\n",
    "# proved"
   ]
  },
  {
   "cell_type": "code",
   "execution_count": 11,
   "id": "65f05693",
   "metadata": {},
   "outputs": [
    {
     "name": "stdout",
     "output_type": "stream",
     "text": [
      "Disprove that when i0 - i1 >0, then o0 > o1\n",
      "Implies(i0 - i1 > 0, o0 > o1)\n",
      "counterexample\n",
      "[n1_1 = 0,\n",
      " i0 = 6,\n",
      " n0_1 = 10,\n",
      " o1 = 0,\n",
      " i1 = 4,\n",
      " n1_0 = 0,\n",
      " o0 = 0,\n",
      " n0_0 = 2]\n"
     ]
    }
   ],
   "source": [
    "print(\"Disprove that when i0 - i1 >0, then o0 > o1\")\n",
    "g = z3.Implies(i0 - i1 > 0.0, o0 > o1)\n",
    "print(g)  # Implies(And(i0 - i1 > 0, i0 + i1 <= 0), o0 > o1)\n",
    "z3.prove(z3.Implies(states, g))"
   ]
  },
  {
   "cell_type": "markdown",
   "id": "463ef6bc",
   "metadata": {},
   "source": [
    "# Own Example of a 2X2X2X2X2 DNN"
   ]
  },
  {
   "cell_type": "code",
   "execution_count": 12,
   "id": "12f6cde2",
   "metadata": {},
   "outputs": [],
   "source": [
    "#Give symbolic inputs for a 2X2X2X2X2 Dnn\n",
    "i0 = z3.Real('i0')\n",
    "i1= z3.Real('i1')\n",
    "n0_0 = z3.Real('n0_0')\n",
    "n0_1 = z3.Real('n0_1')\n",
    "n1_0 = z3.Real('n1_0')\n",
    "n1_1 = z3.Real('n1_1')\n",
    "n2_0 = z3.Real('n2_0')\n",
    "n2_1 = z3.Real('n2_1')\n",
    "o0= z3.Real('o0')\n",
    "o1 = z3.Real('o1')"
   ]
  },
  {
   "cell_type": "code",
   "execution_count": 13,
   "id": "f87e59c8",
   "metadata": {},
   "outputs": [
    {
     "name": "stdout",
     "output_type": "stream",
     "text": [
      "[[(n0_0, [1.0, -1.0], 0, True), (n0_1, [1.0, 1.0], 0.0, True)], [(n1_0, [0.5, -0.2], 0.0, True), (n1_1, [-0.5, 0.1], 0.0, True)], [(n2_0, [1, 1], 0.0, True), (n2_1, [1, 1], 0.0, True)], [(o0, [1.0, -1.0], 0.0, False), (o1, [-1.0, 1.0], 0.0, False)]]\n"
     ]
    }
   ],
   "source": [
    "#Create dnn with 3 hidden layers with 2 neurons\n",
    "hidden_layer0 = [(n0_0,[1.0, -1.0], 0, True),(n0_1,[1.0, 1.0], 0.0, True)]\n",
    "hidden_layer1 = [(n1_0,[0.5, -0.2], 0.0, True) , (n1_1,[-0.5, 0.1], 0.0, True)]\n",
    "hidden_layer2 = [(n2_0,[1, 1], 0.0, True) , (n2_1,[1, 1], 0.0, True)]\n",
    "output_layer =[(o0,[1.0, -1.0], 0.0, False),(o1,[-1.0, 1.0], 0.0, False)]\n",
    "dnn = [hidden_layer0,hidden_layer1,hidden_layer2,output_layer]\n",
    "print(dnn)\n",
    "input_var = [i0,i1] "
   ]
  },
  {
   "cell_type": "code",
   "execution_count": 14,
   "id": "36062d4c",
   "metadata": {},
   "outputs": [
    {
     "data": {
      "text/plain": [
       "[[i0, i1], [n0_0, n0_1], [n1_0, n1_1], [n2_0, n2_1], [o0, o1]]"
      ]
     },
     "execution_count": 14,
     "metadata": {},
     "output_type": "execute_result"
    }
   ],
   "source": [
    "#Function helps in creating an array of neuron input values\n",
    "def create_neurons(dnn,input_var):\n",
    "    neurons=[]\n",
    "    neurons.append(input_var)\n",
    "    for i,layer in enumerate(dnn):\n",
    "        temp_neurons=[]\n",
    "        for j,(neuron, weight, b, r) in enumerate(layer):\n",
    "            temp_neurons.append(dnn[i][j][0])\n",
    "        neurons.append(temp_neurons)\n",
    "    return(neurons)\n",
    "        \n",
    "        \n",
    "create_neurons(dnn,input_var)"
   ]
  },
  {
   "cell_type": "code",
   "execution_count": 15,
   "id": "9b5d4187",
   "metadata": {},
   "outputs": [],
   "source": [
    "#Function calls the create_neuron function and uses it's return to calculate the weights of every possible neuron\n",
    "def my_symbolic_execution(input_var, dnn):\n",
    "    weighted_sum = []\n",
    "    neurons = create_neurons(dnn,input_var)\n",
    "    res = []\n",
    "    for i, layer in enumerate(dnn):\n",
    "        new_weights = []  \n",
    "        for j, (neuron, weight, b, r) in enumerate(layer):\n",
    "            w_sum = sum(var * w for var, w in zip(neurons[i], weight))            \n",
    "            if b!= 0:\n",
    "                w_sum += b\n",
    "                print(w_sum)\n",
    "            if r:\n",
    "                w_sum = relu(w_sum)\n",
    "            res.append(neuron == w_sum)\n",
    "    return(z3.And(res))\n",
    "\n"
   ]
  },
  {
   "cell_type": "code",
   "execution_count": 16,
   "id": "79234fdb",
   "metadata": {},
   "outputs": [
    {
     "name": "stdout",
     "output_type": "stream",
     "text": [
      "And(n0_0 == If(0 + i0*1 + i1*-1 <= 0, 0, 0 + i0*1 + i1*-1),\n",
      "    n0_1 == If(0 + i0*1 + i1*1 <= 0, 0, 0 + i0*1 + i1*1),\n",
      "    n1_0 ==\n",
      "    If(0 + n0_0*1/2 + n0_1*-1/5 <= 0,\n",
      "       0,\n",
      "       0 + n0_0*1/2 + n0_1*-1/5),\n",
      "    n1_1 ==\n",
      "    If(0 + n0_0*-1/2 + n0_1*1/10 <= 0,\n",
      "       0,\n",
      "       0 + n0_0*-1/2 + n0_1*1/10),\n",
      "    n2_0 ==\n",
      "    If(0 + n1_0*1 + n1_1*1 <= 0, 0, 0 + n1_0*1 + n1_1*1),\n",
      "    n2_1 ==\n",
      "    If(0 + n1_0*1 + n1_1*1 <= 0, 0, 0 + n1_0*1 + n1_1*1),\n",
      "    o0 == 0 + n2_0*1 + n2_1*-1,\n",
      "    o1 == 0 + n2_0*-1 + n2_1*1)\n",
      "[n1_0 = 0,\n",
      " o0 = 0,\n",
      " i0 = 4,\n",
      " n0_1 = 15/2,\n",
      " n2_0 = 1/2,\n",
      " o1 = 0,\n",
      " n0_0 = 1/2,\n",
      " i1 = 7/2,\n",
      " n2_1 = 1/2,\n",
      " n1_1 = 1/2]\n"
     ]
    }
   ],
   "source": [
    "#Main Function\n",
    "if __name__ == \"__main__\":\n",
    "    states = my_symbolic_execution(input_var,dnn)\n",
    "    print(states)\n",
    "    assert z3.is_expr(states)\n",
    "    z3.solve(states) #Generating random outputs\n",
    "    "
   ]
  },
  {
   "cell_type": "code",
   "execution_count": 17,
   "id": "54dc1887",
   "metadata": {},
   "outputs": [
    {
     "name": "stdout",
     "output_type": "stream",
     "text": [
      "[n2_1 = 1,\n",
      " i1 = -1,\n",
      " n1_1 = 0,\n",
      " n1_0 = 1,\n",
      " i0 = 1,\n",
      " n0_0 = 2,\n",
      " n2_0 = 1,\n",
      " n0_1 = 0,\n",
      " o1 = 0,\n",
      " o0 = 0]\n"
     ]
    }
   ],
   "source": [
    "# Stimutating concrete example\n",
    "g = z3.And([i0 == 1.0, i1 == -1.0])\n",
    "z3.solve(z3.And(states, g))  # you should get o0, o1 = 1, -1"
   ]
  },
  {
   "cell_type": "code",
   "execution_count": 18,
   "id": "a960f022",
   "metadata": {},
   "outputs": [
    {
     "name": "stdout",
     "output_type": "stream",
     "text": [
      "Prove that if (n0_0 > 0.0 and n0_1 <= 0.0) then o0 > o1\n",
      "Implies(And(n0_0 > 0, n0_1 <= 0), o0 > o1)\n",
      "counterexample\n",
      "[n2_0 = 1/4,\n",
      " i0 = 1/8,\n",
      " n0_0 = 1/2,\n",
      " i1 = -3/8,\n",
      " n2_1 = 1/4,\n",
      " n1_0 = 1/4,\n",
      " o1 = 0,\n",
      " n1_1 = 0,\n",
      " n0_1 = 0,\n",
      " o0 = 0]\n"
     ]
    }
   ],
   "source": [
    "print(\"Prove that if (n0_0 > 0.0 and n0_1 <= 0.0) then o0 > o1\")\n",
    "g = z3.Implies(z3.And([n0_0 > 0.0, n0_1 <= 0.0]), o0 > o1)\n",
    "print(g)  #  Implies (And(n0_0 > 0, n0_1 <= 0), o0 > o1)\n",
    "z3.prove(z3.Implies(states, g))  # proved"
   ]
  },
  {
   "cell_type": "code",
   "execution_count": 19,
   "id": "e84ac768",
   "metadata": {},
   "outputs": [
    {
     "name": "stdout",
     "output_type": "stream",
     "text": [
      "Prove that when (i0 - i1 > 0 and i0 + i1 <= 0), then o0 > o1\n",
      "Implies(And(i0 - i1 > 0, i0 + i1 <= 0), o0 > o1)\n",
      "counterexample\n",
      "[n2_1 = 1/4,\n",
      " i1 = -1/2,\n",
      " n1_1 = 0,\n",
      " n1_0 = 1/4,\n",
      " i0 = 0,\n",
      " o0 = 0,\n",
      " n2_0 = 1/4,\n",
      " n0_1 = 0,\n",
      " o1 = 0,\n",
      " n0_0 = 1/2]\n"
     ]
    }
   ],
   "source": [
    "print(\"Prove that when (i0 - i1 > 0 and i0 + i1 <= 0), then o0 > o1\")\n",
    "g = z3.Implies(z3.And([i0 - i1 > 0.0, i0 + i1 <= 0.0]), o0 > o1)\n",
    "print(g)  # Implies(And(i0 - i1 > 0, i0 + i1 <= 0), o0 > o1)\n",
    "z3.prove(z3.Implies(states, g))"
   ]
  },
  {
   "cell_type": "markdown",
   "id": "445029ba",
   "metadata": {},
   "source": [
    "# A 2X4X4X4X2 DNN"
   ]
  },
  {
   "cell_type": "code",
   "execution_count": 20,
   "id": "5de1afa2",
   "metadata": {},
   "outputs": [],
   "source": [
    "#Give symbolic inputs for a 2X4X4X4X2 Dnn\n",
    "i0 = z3.Real('i0')\n",
    "i1= z3.Real('i1')\n",
    "n0_0 = z3.Real('n0_0')\n",
    "n0_1 = z3.Real('n0_1')\n",
    "n0_2 = z3.Real('n0_2')\n",
    "n0_3 = z3.Real('n0_3')\n",
    "n1_0 = z3.Real('n1_0')\n",
    "n1_1 = z3.Real('n1_1')\n",
    "n1_2 = z3.Real('n1_2')\n",
    "n1_3 = z3.Real('n1_3')\n",
    "n2_0 = z3.Real('n2_0')\n",
    "n2_1 = z3.Real('n2_1')\n",
    "n2_2 = z3.Real('n2_2')\n",
    "n2_3 = z3.Real('n2_3')\n",
    "o0= z3.Real('o0')\n",
    "o1 = z3.Real('o1')"
   ]
  },
  {
   "cell_type": "code",
   "execution_count": 21,
   "id": "6a13a70a",
   "metadata": {},
   "outputs": [
    {
     "name": "stdout",
     "output_type": "stream",
     "text": [
      "[[(n0_0, [1.0, -1.0], 1, True), (n0_1, [1.0, 1.0], 1, True), (n0_2, [1, 1], 1, True), (n0_3, [1, 1], 1, True)], [(n1_0, [0.5, -0.2], 1, True), (n1_1, [-0.5, 0.1], 1, True), (n1_2, [1, 1], 0.0, True), (n1_3, [1, 1], 1, True)], [(n2_0, [1, 1], 1, True), (n2_1, [1, 1], 1, True), (n2_2, [1, 1], 1, True), (n2_3, [1, 1], 1, True)], [(o0, [1.0, -1.0], 1.0, False), (o1, [-1.0, 1.0], 1.0, False)]]\n"
     ]
    }
   ],
   "source": [
    "#Create dnn with 3 hidden layers each having 4 neurons with non-zero bias values\n",
    "hidden_layer0 = [(n0_0,[1.0, -1.0], 1, True),(n0_1,[1.0, 1.0], 1, True),(n0_2,[1, 1], 1, True),(n0_3,[1, 1], 1, True)]\n",
    "hidden_layer1 = [(n1_0,[0.5, -0.2], 1, True) , (n1_1,[-0.5, 0.1], 1, True),(n1_2,[1, 1], 0.0, True),(n1_3,[1, 1], 1, True)]\n",
    "hidden_layer2 = [(n2_0,[1, 1], 1, True) , (n2_1,[1, 1], 1, True),(n2_2,[1, 1], 1, True),(n2_3,[1, 1], 1, True)]\n",
    "output_layer =[(o0,[1.0, -1.0], 1.0, False),(o1,[-1.0, 1.0], 1.0, False)]\n",
    "dnn = [hidden_layer0,hidden_layer1,hidden_layer2,output_layer]\n",
    "print(dnn)\n",
    "input_var = [i0,i1] "
   ]
  },
  {
   "cell_type": "code",
   "execution_count": 22,
   "id": "ecab6c1a",
   "metadata": {},
   "outputs": [
    {
     "data": {
      "text/plain": [
       "[[i0, i1],\n",
       " [n0_0, n0_1, n0_2, n0_3],\n",
       " [n1_0, n1_1, n1_2, n1_3],\n",
       " [n2_0, n2_1, n2_2, n2_3],\n",
       " [o0, o1]]"
      ]
     },
     "execution_count": 22,
     "metadata": {},
     "output_type": "execute_result"
    }
   ],
   "source": [
    "#Function helps in creating an array of neuron input values\n",
    "def create_neurons(dnn,input_var):\n",
    "    neurons=[]\n",
    "    neurons.append(input_var)\n",
    "    for i,layer in enumerate(dnn):\n",
    "        temp_neurons=[]\n",
    "        for j,(neuron, weight, b, r) in enumerate(layer):\n",
    "            temp_neurons.append(dnn[i][j][0])\n",
    "        neurons.append(temp_neurons)\n",
    "    return(neurons)\n",
    "        \n",
    "        \n",
    "create_neurons(dnn,input_var)"
   ]
  },
  {
   "cell_type": "code",
   "execution_count": 23,
   "id": "5edeba6b",
   "metadata": {},
   "outputs": [],
   "source": [
    "#Function calls the create_neuron function and uses it's return to calculate the weights of every possible neuron\n",
    "def my_symbolic_execution(input_var, dnn):\n",
    "    weighted_sum = []\n",
    "    neurons = create_neurons(dnn,input_var)\n",
    "    res = []\n",
    "    for i, layer in enumerate(dnn):\n",
    "        new_weights = []  \n",
    "        for j, (neuron, weight, b, r) in enumerate(layer):\n",
    "            w_sum = sum(var * w for var, w in zip(neurons[i], weight))            \n",
    "            if b!= 0:\n",
    "                w_sum += b\n",
    "                print(w_sum)\n",
    "            if r:\n",
    "                w_sum = relu(w_sum)\n",
    "            res.append(neuron == w_sum)\n",
    "    return(z3.And(res))\n",
    "\n"
   ]
  },
  {
   "cell_type": "code",
   "execution_count": 24,
   "id": "7923f06a",
   "metadata": {},
   "outputs": [
    {
     "name": "stdout",
     "output_type": "stream",
     "text": [
      "0 + i0*1 + i1*-1 + 1\n",
      "0 + i0*1 + i1*1 + 1\n",
      "0 + i0*1 + i1*1 + 1\n",
      "0 + i0*1 + i1*1 + 1\n",
      "0 + n0_0*1/2 + n0_1*-1/5 + 1\n",
      "0 + n0_0*-1/2 + n0_1*1/10 + 1\n",
      "0 + n0_0*1 + n0_1*1 + 1\n",
      "0 + n1_0*1 + n1_1*1 + 1\n",
      "0 + n1_0*1 + n1_1*1 + 1\n",
      "0 + n1_0*1 + n1_1*1 + 1\n",
      "0 + n1_0*1 + n1_1*1 + 1\n",
      "0 + n2_0*1 + n2_1*-1 + 1\n",
      "0 + n2_0*-1 + n2_1*1 + 1\n",
      "And(n0_0 ==\n",
      "    If(0 + i0*1 + i1*-1 + 1 <= 0, 0, 0 + i0*1 + i1*-1 + 1),\n",
      "    n0_1 ==\n",
      "    If(0 + i0*1 + i1*1 + 1 <= 0, 0, 0 + i0*1 + i1*1 + 1),\n",
      "    n0_2 ==\n",
      "    If(0 + i0*1 + i1*1 + 1 <= 0, 0, 0 + i0*1 + i1*1 + 1),\n",
      "    n0_3 ==\n",
      "    If(0 + i0*1 + i1*1 + 1 <= 0, 0, 0 + i0*1 + i1*1 + 1),\n",
      "    n1_0 ==\n",
      "    If(0 + n0_0*1/2 + n0_1*-1/5 + 1 <= 0,\n",
      "       0,\n",
      "       0 + n0_0*1/2 + n0_1*-1/5 + 1),\n",
      "    n1_1 ==\n",
      "    If(0 + n0_0*-1/2 + n0_1*1/10 + 1 <= 0,\n",
      "       0,\n",
      "       0 + n0_0*-1/2 + n0_1*1/10 + 1),\n",
      "    n1_2 ==\n",
      "    If(0 + n0_0*1 + n0_1*1 <= 0, 0, 0 + n0_0*1 + n0_1*1),\n",
      "    n1_3 ==\n",
      "    If(0 + n0_0*1 + n0_1*1 + 1 <= 0,\n",
      "       0,\n",
      "       0 + n0_0*1 + n0_1*1 + 1),\n",
      "    n2_0 ==\n",
      "    If(0 + n1_0*1 + n1_1*1 + 1 <= 0,\n",
      "       0,\n",
      "       0 + n1_0*1 + n1_1*1 + 1),\n",
      "    n2_1 ==\n",
      "    If(0 + n1_0*1 + n1_1*1 + 1 <= 0,\n",
      "       0,\n",
      "       0 + n1_0*1 + n1_1*1 + 1),\n",
      "    n2_2 ==\n",
      "    If(0 + n1_0*1 + n1_1*1 + 1 <= 0,\n",
      "       0,\n",
      "       0 + n1_0*1 + n1_1*1 + 1),\n",
      "    n2_3 ==\n",
      "    If(0 + n1_0*1 + n1_1*1 + 1 <= 0,\n",
      "       0,\n",
      "       0 + n1_0*1 + n1_1*1 + 1),\n",
      "    o0 == 0 + n2_0*1 + n2_1*-1 + 1,\n",
      "    o1 == 0 + n2_0*-1 + n2_1*1 + 1)\n",
      "[i0 = -1/14,\n",
      " o0 = 1,\n",
      " n2_2 = 167/56,\n",
      " n1_2 = 13/7,\n",
      " n2_3 = 167/56,\n",
      " n0_0 = 47/28,\n",
      " o1 = 1,\n",
      " n0_2 = 5/28,\n",
      " n1_0 = 101/56,\n",
      " i1 = -3/4,\n",
      " n0_3 = 5/28,\n",
      " n1_1 = 5/28,\n",
      " n2_0 = 167/56,\n",
      " n2_1 = 167/56,\n",
      " n0_1 = 5/28,\n",
      " n1_3 = 20/7]\n"
     ]
    }
   ],
   "source": [
    "#Main\n",
    "if __name__ == \"__main__\":\n",
    "    states = my_symbolic_execution(input_var,dnn)\n",
    "    print(states)\n",
    "    assert z3.is_expr(states)\n",
    "    z3.solve(states) #Generating random outputs\n",
    "    "
   ]
  },
  {
   "cell_type": "code",
   "execution_count": 25,
   "id": "4d53b1a0",
   "metadata": {},
   "outputs": [
    {
     "name": "stdout",
     "output_type": "stream",
     "text": [
      "[n1_0 = 23/10,\n",
      " i0 = 1,\n",
      " n2_2 = 33/10,\n",
      " o1 = 1,\n",
      " n1_2 = 4,\n",
      " n2_3 = 33/10,\n",
      " o0 = 1,\n",
      " n0_0 = 3,\n",
      " i1 = -1,\n",
      " n0_2 = 1,\n",
      " n2_1 = 33/10,\n",
      " n0_3 = 1,\n",
      " n1_1 = 0,\n",
      " n2_0 = 33/10,\n",
      " n0_1 = 1,\n",
      " n1_3 = 5]\n"
     ]
    }
   ],
   "source": [
    "#  Stimutating concrete example\n",
    "g = z3.And([i0 == 1.0, i1 == -1.0])\n",
    "z3.solve(z3.And(states, g))  # you should get o0, o1 = 1, -1\n",
    "    "
   ]
  },
  {
   "cell_type": "code",
   "execution_count": 26,
   "id": "365429f3",
   "metadata": {},
   "outputs": [
    {
     "name": "stdout",
     "output_type": "stream",
     "text": [
      "[n1_0 = 39/20,\n",
      " o1 = 1,\n",
      " i0 = 1,\n",
      " n2_2 = 59/20,\n",
      " n1_2 = 4,\n",
      " o0 = 1,\n",
      " n2_3 = 59/20,\n",
      " n0_0 = 5/2,\n",
      " i1 = -1/2,\n",
      " n0_2 = 3/2,\n",
      " n1_3 = 5,\n",
      " n0_3 = 3/2,\n",
      " n1_1 = 0,\n",
      " n2_0 = 59/20,\n",
      " n2_1 = 59/20,\n",
      " n0_1 = 3/2]\n"
     ]
    }
   ],
   "source": [
    "#  Stimutating concrete example\n",
    "g = z3.And([i0 == 1.0, i1 == -0.5])\n",
    "z3.solve(z3.And(states, g))  # you should get o0, o1 = 1, -1\n",
    "    "
   ]
  },
  {
   "cell_type": "markdown",
   "id": "4099bb82",
   "metadata": {},
   "source": [
    "# Checking Assertions - 2 True & 1 False"
   ]
  },
  {
   "cell_type": "code",
   "execution_count": 27,
   "id": "dd6bed32",
   "metadata": {},
   "outputs": [
    {
     "name": "stdout",
     "output_type": "stream",
     "text": [
      "Prove that if (n0_0 > 0.0 and n0_1 < 0.0) then o0 > o1\n",
      "Implies(And(n0_0 > 0, n0_1 < 0), o0 > o1)\n",
      "proved\n"
     ]
    }
   ],
   "source": [
    "print(\"Prove that if (n0_0 > 0.0 and n0_1 < 0.0) then o0 > o1\")\n",
    "g = z3.Implies(z3.And([n0_0 > 0.0, n0_1 < 0.0]), o0 > o1)\n",
    "print(g)  #  Implies (And(n0_0 > 0, n0_1 <= 0), o0 > o1)\n",
    "z3.prove(z3.Implies(states, g))  # proved"
   ]
  },
  {
   "cell_type": "code",
   "execution_count": 28,
   "id": "fe246551",
   "metadata": {},
   "outputs": [
    {
     "name": "stdout",
     "output_type": "stream",
     "text": [
      "Prove that when (i0 - i1 > 0 and i0 + i1 <= 0), then o0 > o1\n",
      "Implies(And(i0 - i1 > 0, i0 + i1 <= 0), o0 > o1)\n",
      "counterexample\n",
      "[o1 = 1,\n",
      " i0 = -1/14,\n",
      " n2_2 = 167/56,\n",
      " n1_2 = 13/7,\n",
      " o0 = 1,\n",
      " n2_3 = 167/56,\n",
      " n0_0 = 47/28,\n",
      " n1_0 = 101/56,\n",
      " n0_2 = 5/28,\n",
      " i1 = -3/4,\n",
      " n0_3 = 5/28,\n",
      " n2_1 = 167/56,\n",
      " n1_1 = 5/28,\n",
      " n2_0 = 167/56,\n",
      " n0_1 = 5/28,\n",
      " n1_3 = 20/7]\n"
     ]
    }
   ],
   "source": [
    "print(\"Prove that when (i0 - i1 > 0 and i0 + i1 <= 0), then o0 > o1\")\n",
    "g = z3.Implies(z3.And([i0 - i1 > 0.0, i0 + i1 <= 0.0]), o0 > o1)\n",
    "print(g)  # Implies(And(i0 - i1 > 0, i0 + i1 <= 0), o0 > o1)\n",
    "z3.prove(z3.Implies(states, g))"
   ]
  },
  {
   "cell_type": "code",
   "execution_count": 29,
   "id": "66a5190f",
   "metadata": {},
   "outputs": [
    {
     "name": "stdout",
     "output_type": "stream",
     "text": [
      "Prove that when i0 == 1.0, i1 == -1.0, then o0 is equal to o1\n",
      "Implies(And(i0 == 1, i1 == -1), o0 == o1)\n",
      "proved\n"
     ]
    }
   ],
   "source": [
    "print(\"Prove that when i0 == 1.0, i1 == -1.0, then o0 is equal to o1\")\n",
    "g = z3.Implies(z3.And([i0 == 1.0, i1 == -1.0]), o0 == o1)\n",
    "print(g)  # Implies(And(i0 - i1 > 0, i0 + i1 <= 0), o0 > o1)\n",
    "z3.prove(z3.Implies(states, g))"
   ]
  }
 ],
 "metadata": {
  "kernelspec": {
   "display_name": "Python 3 (ipykernel)",
   "language": "python",
   "name": "python3"
  },
  "language_info": {
   "codemirror_mode": {
    "name": "ipython",
    "version": 3
   },
   "file_extension": ".py",
   "mimetype": "text/x-python",
   "name": "python",
   "nbconvert_exporter": "python",
   "pygments_lexer": "ipython3",
   "version": "3.9.12"
  }
 },
 "nbformat": 4,
 "nbformat_minor": 5
}
